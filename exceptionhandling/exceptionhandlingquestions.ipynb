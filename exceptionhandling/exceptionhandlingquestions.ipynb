{
 "cells": [
  {
   "cell_type": "markdown",
   "metadata": {},
   "source": [
    "# Module: Exception Handling Assignments\n",
    "## Lesson: Exception Handling with try, except, and finally\n",
    "### Assignment 1: Handling Division by Zero\n",
    "\n",
    "Write a function that takes two integers as input and returns their division. Use try, except, and finally blocks to handle division by zero and print an appropriate message.\n",
    "\n",
    "### Assignment 2: File Reading with Exception Handling\n",
    "\n",
    "Write a function that reads the contents of a file named `data.txt`. Use try, except, and finally blocks to handle file not found errors and ensure the file is properly closed.\n",
    "\n",
    "### Assignment 3: Handling Multiple Exceptions\n",
    "\n",
    "Write a function that takes a list of integers and returns their sum. Use try, except, and finally blocks to handle TypeError if a non-integer value is encountered and print an appropriate message.\n",
    "\n",
    "### Assignment 4: Exception Handling in User Input\n",
    "\n",
    "Write a function that prompts the user to enter an integer. Use try, except, and finally blocks to handle ValueError if the user enters a non-integer value and print an appropriate message.\n",
    "\n",
    "### Assignment 5: Exception Handling in Dictionary Access\n",
    "\n",
    "Write a function that takes a dictionary and a key as input and returns the value associated with the key. Use try, except, and finally blocks to handle KeyError if the key is not found in the dictionary and print an appropriate message.\n",
    "\n",
    "### Assignment 6: Nested Exception Handling\n",
    "\n",
    "Write a function that performs nested exception handling. It should first attempt to convert a string to an integer, and then attempt to divide by that integer. Use nested try, except, and finally blocks to handle ValueError and ZeroDivisionError and print appropriate messages.\n",
    "\n",
    "### Assignment 7: Exception Handling in List Operations\n",
    "\n",
    "Write a function that takes a list and an index as input and returns the element at the given index. Use try, except, and finally blocks to handle IndexError if the index is out of range and print an appropriate message.\n",
    "\n",
    "### Assignment 8: Exception Handling in Network Operations\n",
    "\n",
    "Write a function that attempts to open a URL and read its contents. Use try, except, and finally blocks to handle network-related errors and print an appropriate message.\n",
    "\n",
    "### Assignment 9: Exception Handling in JSON Parsing\n",
    "\n",
    "Write a function that attempts to parse a JSON string. Use try, except, and finally blocks to handle JSONDecodeError if the string is not a valid JSON and print an appropriate message.\n",
    "\n",
    "### Assignment 10: Custom Exception Handling\n",
    "\n",
    "Define a custom exception named `NegativeNumberError`. Write a function that raises this exception if a negative number is encountered in a list. Use try, except, and finally blocks to handle the custom exception and print an appropriate message.\n",
    "\n",
    "### Assignment 11: Exception Handling in Function Calls\n",
    "\n",
    "Write a function that calls another function which may raise an exception. Use try, except, and finally blocks to handle the exception and print an appropriate message.\n",
    "\n",
    "### Assignment 12: Exception Handling in Class Methods\n",
    "\n",
    "Define a class with a method that performs a division operation. Use try, except, and finally blocks within the method to handle division by zero and print an appropriate message.\n",
    "\n",
    "### Assignment 13: Exception Handling in Data Conversion\n",
    "\n",
    "Write a function that takes a list of strings and converts them to integers. Use try, except, and finally blocks to handle ValueError if a string cannot be converted and print an appropriate message.\n",
    "\n",
    "### Assignment 14: Exception Handling in List Comprehensions\n",
    "\n",
    "Write a function that uses a list comprehension to convert a list of strings to integers. Use try, except, and finally blocks within the list comprehension to handle ValueError and print an appropriate message.\n",
    "\n",
    "### Assignment 15: Exception Handling in File Writing\n",
    "\n",
    "Write a function that attempts to write a list of strings to a file. Use try, except, and finally blocks to handle IOError and ensure the file is properly closed."
   ]
  },
  {
   "cell_type": "code",
   "execution_count": 1,
   "metadata": {},
   "outputs": [
    {
     "name": "stdout",
     "output_type": "stream",
     "text": [
      "Execution done\n",
      "2.5\n",
      "Error:  division by zero\n",
      "Execution done\n",
      "None\n"
     ]
    }
   ],
   "source": [
    "def divide (a,b):\n",
    "    try:\n",
    "        div = a/b\n",
    "    except ZeroDivisionError as e:\n",
    "        print(\"Error: \", e)\n",
    "        div = None\n",
    "    finally:\n",
    "        print(\"Execution done\")\n",
    "    return div\n",
    "\n",
    "print(divide(5,2))\n",
    "print(divide(10,0))"
   ]
  },
  {
   "cell_type": "code",
   "execution_count": 2,
   "id": "3b5b5a85",
   "metadata": {},
   "outputs": [
    {
     "name": "stdout",
     "output_type": "stream",
     "text": [
      "File 'data.txt' not found: [Errno 2] No such file or directory: 'data.txt'\n",
      "None\n"
     ]
    }
   ],
   "source": [
    "def read_file(filename):\n",
    "    try:\n",
    "        file = open(filename, 'r')\n",
    "        content = file.read()\n",
    "        return content\n",
    "    except FileNotFoundError as e:\n",
    "        print(f\"File '{filename}' not found: {e}\")\n",
    "    finally:\n",
    "        try:\n",
    "            file.close()\n",
    "        except NameError:\n",
    "            pass\n",
    "\n",
    "print(read_file('data.txt'))"
   ]
  },
  {
   "cell_type": "code",
   "execution_count": 3,
   "id": "fbbf8084",
   "metadata": {},
   "outputs": [
    {
     "name": "stdout",
     "output_type": "stream",
     "text": [
      "Execution complete\n",
      "15\n",
      "Error: unsupported operand type(s) for +=: 'int' and 'str'\n",
      "Execution complete\n",
      "10\n"
     ]
    }
   ],
   "source": [
    "def sum_lst(lst):\n",
    "    sum = 0\n",
    "    try:\n",
    "        for item in lst:\n",
    "            sum += item\n",
    "    except TypeError as e:\n",
    "        print(f\"Error: {e}\")\n",
    "    finally:\n",
    "        print(\"Execution complete\")\n",
    "    return sum\n",
    "\n",
    "print(sum_lst([1,2,3,4,5]))\n",
    "print(sum_lst([1,2,3,4,'a']))"
   ]
  },
  {
   "cell_type": "code",
   "execution_count": 5,
   "id": "dd678703",
   "metadata": {},
   "outputs": [
    {
     "name": "stdout",
     "output_type": "stream",
     "text": [
      "Error: invalid literal for int() with base 10: 'a'\n",
      "Execution complete\n",
      "None\n"
     ]
    }
   ],
   "source": [
    "def get_integer():\n",
    "    try:\n",
    "        value = int(input(\"Enter an integer: \"))\n",
    "    except ValueError as e:\n",
    "        print(f\"Error: {e}\")\n",
    "        value = None\n",
    "    finally:\n",
    "        print(\"Execution complete\")\n",
    "    return value\n",
    "\n",
    "print(get_integer())"
   ]
  },
  {
   "cell_type": "code",
   "execution_count": 6,
   "id": "c90e4ab8",
   "metadata": {},
   "outputs": [
    {
     "name": "stdout",
     "output_type": "stream",
     "text": [
      "Execution complete\n",
      "2\n",
      "Error: 'x'\n",
      "Execution complete\n",
      "None\n"
     ]
    }
   ],
   "source": [
    "def get_dict_value(d, key):\n",
    "    try:\n",
    "        val = d[key]\n",
    "    except KeyError as e:\n",
    "        print(f\"Error: {e}\")\n",
    "        val = None\n",
    "    finally:\n",
    "        print(\"Execution complete\")\n",
    "    return val\n",
    "\n",
    "d = {'a':1, 'b':2, 'c':3, 'd': 4}\n",
    "print(get_dict_value(d,'b'))\n",
    "print(get_dict_value(d,'x'))"
   ]
  },
  {
   "cell_type": "code",
   "execution_count": 7,
   "id": "97fdbee9",
   "metadata": {},
   "outputs": [
    {
     "name": "stdout",
     "output_type": "stream",
     "text": [
      "Conversion attempt complete\n",
      "Division error: division by zero\n",
      "Division attempt complete\n",
      "overall execution complete\n",
      "None\n",
      "Conversion error: invalid literal for int() with base 10: 'a'\n",
      "Conversion attempt complete\n",
      "overall execution complete\n",
      "None\n",
      "Conversion attempt complete\n",
      "Division attempt complete\n",
      "overall execution complete\n",
      "5.0\n"
     ]
    }
   ],
   "source": [
    "def nested_exception_handling(s):\n",
    "    try:\n",
    "        try:\n",
    "            num = int(s)\n",
    "        except ValueError as e:\n",
    "            print(f\"Conversion error: {e}\")\n",
    "            num = None\n",
    "        finally:\n",
    "            print(\"Conversion attempt complete\")\n",
    "        if num is not None:\n",
    "            try:\n",
    "                result = 10 / num\n",
    "            except ZeroDivisionError as e:\n",
    "                print(f\"Division error: {e}\")\n",
    "                result = None\n",
    "            finally:\n",
    "                print(\"Division attempt complete\")\n",
    "            return result\n",
    "    finally:\n",
    "        print(\"overall execution complete\")\n",
    "\n",
    "print(nested_exception_handling('0'))  # None\n",
    "print(nested_exception_handling('a'))  # None\n",
    "print(nested_exception_handling('2')) "
   ]
  },
  {
   "cell_type": "code",
   "execution_count": 8,
   "id": "03b02840",
   "metadata": {},
   "outputs": [
    {
     "name": "stdout",
     "output_type": "stream",
     "text": [
      "Execution complete\n",
      "3\n",
      "Error: list index out of range\n",
      "Execution complete\n",
      "None\n"
     ]
    }
   ],
   "source": [
    "def get_list(lst, index):\n",
    "    try:\n",
    "        element = lst[index]\n",
    "    except IndexError as e:\n",
    "        print(f\"Error: {e}\")\n",
    "        element = None\n",
    "    finally:\n",
    "        print(\"Execution complete\")\n",
    "    return element\n",
    "\n",
    "lst = [1,2,3,4,5]\n",
    "print(get_list(lst, 2))\n",
    "print(get_list(lst, 10))"
   ]
  },
  {
   "cell_type": "code",
   "execution_count": 1,
   "id": "80696812",
   "metadata": {},
   "outputs": [
    {
     "ename": "ModuleNotFoundError",
     "evalue": "No module named 'requests'",
     "output_type": "error",
     "traceback": [
      "\u001b[1;31m---------------------------------------------------------------------------\u001b[0m",
      "\u001b[1;31mModuleNotFoundError\u001b[0m                       Traceback (most recent call last)",
      "Cell \u001b[1;32mIn[1], line 1\u001b[0m\n\u001b[1;32m----> 1\u001b[0m \u001b[38;5;28;01mimport\u001b[39;00m\u001b[38;5;250m \u001b[39m\u001b[38;5;21;01mrequests\u001b[39;00m\n\u001b[0;32m      3\u001b[0m \u001b[38;5;28;01mdef\u001b[39;00m\u001b[38;5;250m \u001b[39m\u001b[38;5;21mread_url\u001b[39m(url):\n\u001b[0;32m      4\u001b[0m     \u001b[38;5;28;01mtry\u001b[39;00m:\n",
      "\u001b[1;31mModuleNotFoundError\u001b[0m: No module named 'requests'"
     ]
    }
   ],
   "source": [
    "import requests\n",
    "\n",
    "def read_url(url):\n",
    "    try:\n",
    "        response = requests.get(url)\n",
    "        response.raise_for_status()\n",
    "        return response.text\n",
    "    except requests.exceptions.RequestException as e:\n",
    "        print(f\"Network Error: {e}\")\n",
    "        return None\n",
    "    finally:\n",
    "        print(\"Execution complete\")\n",
    "\n",
    "print(read_url('https://jsonplaceholder.typicode.com/posts/1'))\n",
    "print(read_url('https://nonexistent.url'))"
   ]
  },
  {
   "cell_type": "code",
   "execution_count": 15,
   "id": "393d771b",
   "metadata": {},
   "outputs": [
    {
     "name": "stdout",
     "output_type": "stream",
     "text": [
      "Execution complete\n",
      "{'name': 'John', 'age': 30}\n",
      "Error parsing JSON: Expecting value: line 1 column 1 (char 0)\n",
      "Execution complete\n",
      "None\n"
     ]
    }
   ],
   "source": [
    "import json\n",
    "\n",
    "def parse_json(json_string):\n",
    "    try:\n",
    "        data = json.loads(json_string)\n",
    "        return data\n",
    "    except json.JSONDecodeError as e:\n",
    "        print(f\"Error parsing JSON: {e}\")\n",
    "        return None\n",
    "    finally:\n",
    "        print(\"Execution complete\")\n",
    "\n",
    "print(parse_json('{\"name\": \"John\", \"age\": 30}'))\n",
    "print(parse_json('Invalid JSON')) "
   ]
  },
  {
   "cell_type": "code",
   "execution_count": 2,
   "id": "3642e27a",
   "metadata": {},
   "outputs": [
    {
     "name": "stdout",
     "output_type": "stream",
     "text": [
      "Execution complete\n",
      "Error: Negative number -5 found in the list\n",
      "Execution complete\n"
     ]
    }
   ],
   "source": [
    "class NegativeNumberError(Exception):\n",
    "    pass\n",
    "\n",
    "def check_neg(lst):\n",
    "    try:\n",
    "        for num in lst:\n",
    "            if num < 0:\n",
    "                raise NegativeNumberError(f\"Negative number {num} found in the list\")\n",
    "    except NegativeNumberError as e:\n",
    "        print(f\"Error: {e}\")\n",
    "    finally:\n",
    "        print(\"Execution complete\")\n",
    "\n",
    "check_neg([1,2,3,4,5])\n",
    "check_neg([1,2,3,4,-5])"
   ]
  },
  {
   "cell_type": "code",
   "execution_count": 4,
   "id": "b609f0ab",
   "metadata": {},
   "outputs": [
    {
     "name": "stdout",
     "output_type": "stream",
     "text": [
      "An error occured in safe_function: An error occured in risky_function\n",
      "Execution Complete\n"
     ]
    }
   ],
   "source": [
    "def risky_function():\n",
    "    raise ValueError(\"An error occured in risky_function\")\n",
    "\n",
    "def safe_function():\n",
    "    try:\n",
    "        risky_function()\n",
    "    except ValueError as e:\n",
    "        print(f\"An error occured in safe_function: {e}\")\n",
    "    finally:\n",
    "        print(\"Execution Complete\")\n",
    "\n",
    "safe_function()"
   ]
  },
  {
   "cell_type": "code",
   "execution_count": 5,
   "id": "a885fae6",
   "metadata": {},
   "outputs": [
    {
     "name": "stdout",
     "output_type": "stream",
     "text": [
      "Execution Complete\n",
      "5.0\n",
      "Error: division by zero\n",
      "Execution Complete\n",
      "None\n"
     ]
    }
   ],
   "source": [
    "class Calculator:\n",
    "    def divide(self, a,b):\n",
    "        try:\n",
    "            result = a/b\n",
    "        except ZeroDivisionError as e:\n",
    "            print(f\"Error: {e}\")\n",
    "            result = None\n",
    "        finally:\n",
    "            print(\"Execution Complete\")\n",
    "        return result\n",
    "    \n",
    "calc = Calculator()\n",
    "print(calc.divide(10,2))\n",
    "print(calc.divide(10,0))"
   ]
  },
  {
   "cell_type": "code",
   "execution_count": 7,
   "id": "505fb91c",
   "metadata": {},
   "outputs": [
    {
     "name": "stdout",
     "output_type": "stream",
     "text": [
      "Error: invalid literal for int() with base 10: 'a'\n",
      "Execution complete\n",
      "None\n",
      "Execution complete\n",
      "[1, 2, 3, 4]\n"
     ]
    }
   ],
   "source": [
    "def convert_to_integers(lst):\n",
    "    integers = []\n",
    "    try:\n",
    "        for i in lst:\n",
    "            integers.append(int(i))\n",
    "    except ValueError as e:\n",
    "        print(f\"Error: {e}\")\n",
    "        integers = None\n",
    "    finally:\n",
    "        print(\"Execution complete\")\n",
    "    return integers\n",
    "\n",
    "print(convert_to_integers(['1', '2', '3', 'a', 'b', 'c']))\n",
    "print(convert_to_integers(['1', '2', '3', '4']))"
   ]
  },
  {
   "cell_type": "code",
   "execution_count": 8,
   "id": "bc8adef6",
   "metadata": {},
   "outputs": [
    {
     "name": "stdout",
     "output_type": "stream",
     "text": [
      "Error: invalid literal for int() with base 10: 'a'\n",
      "Execution Complete\n",
      "None\n",
      "Execution Complete\n",
      "[1, 2, 3, 4]\n"
     ]
    }
   ],
   "source": [
    "def convert_with_comprehensions(lst):\n",
    "    try:\n",
    "        integers = [int(i) for i in lst]\n",
    "    except ValueError as e:\n",
    "        print(f\"Error: {e}\")\n",
    "        integers = None\n",
    "    finally:\n",
    "        print(\"Execution Complete\")\n",
    "    return integers\n",
    "\n",
    "print(convert_with_comprehensions(['1', '2', '3', 'a', 'b', 'c']))\n",
    "print(convert_with_comprehensions(['1', '2', '3', '4']))"
   ]
  },
  {
   "cell_type": "code",
   "execution_count": 13,
   "id": "c2b7b993",
   "metadata": {},
   "outputs": [],
   "source": [
    "def write_Strings_to_file(strings, filename):\n",
    "    try:\n",
    "        file = open(filename, 'w')\n",
    "        for st in strings:\n",
    "            file.write(st + '\\n')\n",
    "    except IOError as e:\n",
    "        print(f\"Error: {e}\")\n",
    "    finally:\n",
    "        try:\n",
    "            file.close()\n",
    "        except NameError:\n",
    "            pass\n",
    "\n",
    "write_Strings_to_file(['Hello', 'World'], 'output.txt')"
   ]
  }
 ],
 "metadata": {
  "kernelspec": {
   "display_name": "Python 3",
   "language": "python",
   "name": "python3"
  },
  "language_info": {
   "codemirror_mode": {
    "name": "ipython",
    "version": 3
   },
   "file_extension": ".py",
   "mimetype": "text/x-python",
   "name": "python",
   "nbconvert_exporter": "python",
   "pygments_lexer": "ipython3",
   "version": "3.12.0"
  }
 },
 "nbformat": 4,
 "nbformat_minor": 5
}
