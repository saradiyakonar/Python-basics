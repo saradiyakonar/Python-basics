{
 "cells": [
  {
   "cell_type": "markdown",
   "metadata": {},
   "source": [
    "# Module: File Handling Assignments\n",
    "## Lesson: File Handling and Operations\n",
    "### Assignment 1: Reading a File\n",
    "\n",
    "Write a function that reads the contents of a file named `sample.txt` and prints each line.\n",
    "\n",
    "### Assignment 2: Writing to a File\n",
    "\n",
    "Write a function that writes a list of strings to a file named `output.txt`, with each string on a new line.\n",
    "\n",
    "### Assignment 3: Copying a File\n",
    "\n",
    "Write a function that copies the contents of a file named `source.txt` to a new file named `destination.txt`.\n",
    "\n",
    "### Assignment 4: Appending to a File\n",
    "\n",
    "Write a function that appends a given string to the end of a file named `log.txt`.\n",
    "\n",
    "### Assignment 5: Counting Words in a File\n",
    "\n",
    "Write a function that reads the contents of a file named `document.txt` and returns the number of words in the file.\n",
    "\n",
    "### Assignment 6: Finding and Replacing Text\n",
    "\n",
    "Write a function that finds and replaces all occurrences of a given word in a file named `data.txt` with another word.\n",
    "\n",
    "### Assignment 7: Reading a File in Reverse\n",
    "\n",
    "Write a function that reads the contents of a file named `reverse.txt` and prints each line in reverse order.\n",
    "\n",
    "### Assignment 8: Counting Lines, Words, and Characters\n",
    "\n",
    "Write a function that reads the contents of a file named `stats.txt` and returns the number of lines, words, and characters in the file.\n",
    "\n",
    "### Assignment 9: Merging Multiple Files\n",
    "\n",
    "Write a function that merges the contents of multiple files into a single file named `merged.txt`.\n",
    "\n",
    "### Assignment 10: Splitting a Large File\n",
    "\n",
    "Write a function that splits a large file named `large.txt` into smaller files of 100 lines each.\n",
    "\n",
    "### Assignment 11: Creating a Log File\n",
    "\n",
    "Write a function that creates a log file named `activity.log` and writes log messages with timestamps.\n",
    "\n",
    "### Assignment 12: Binary File Operations\n",
    "\n",
    "Write a function that reads a binary file named `image.bin` and writes its contents to another binary file named `copy_image.bin`.\n",
    "\n",
    "### Assignment 13: CSV File Operations\n",
    "\n",
    "Write a function that reads a CSV file named `data.csv` and prints its contents as a list of dictionaries.\n",
    "\n",
    "### Assignment 14: JSON File Operations\n",
    "\n",
    "Write a function that reads a JSON file named `data.json` and prints its contents as a Python dictionary.\n",
    "\n",
    "### Assignment 15: File Permission Handling\n",
    "\n",
    "Write a function that attempts to read a file named `protected.txt` and handles any permission errors gracefully by printing an error message."
   ]
  },
  {
   "cell_type": "code",
   "execution_count": 2,
   "metadata": {},
   "outputs": [
    {
     "name": "stdout",
     "output_type": "stream",
     "text": [
      "Hello World\n",
      "How are you?\n"
     ]
    }
   ],
   "source": [
    "def read_file(filename):\n",
    "    with open(filename, 'r') as file:\n",
    "        for line in file:\n",
    "            print(line.strip())\n",
    "\n",
    "read_file('sample.txt')"
   ]
  },
  {
   "cell_type": "code",
   "execution_count": 3,
   "id": "8be4410a",
   "metadata": {},
   "outputs": [],
   "source": [
    "def write_file(lines, filename):\n",
    "    with open(filename, 'w')  as file:\n",
    "        for line in lines:\n",
    "            file.write(line + '\\n')\n",
    "\n",
    "write_file(['Hello', 'World'], 'output.txt')"
   ]
  },
  {
   "cell_type": "code",
   "execution_count": 4,
   "id": "d36414b8",
   "metadata": {},
   "outputs": [],
   "source": [
    "def copy_file(src,dest):\n",
    "    with open(src, 'r') as src:\n",
    "        with open(dest, 'w') as dest:\n",
    "            dest.write(src.read())\n",
    "\n",
    "copy_file('sample.txt', 'dest.txt')"
   ]
  },
  {
   "cell_type": "code",
   "execution_count": 5,
   "id": "f6812dec",
   "metadata": {},
   "outputs": [],
   "source": [
    "def append_to_file(text,filename):\n",
    "    with open(filename, 'a') as file:\n",
    "        file.write(text+ '\\n')\n",
    "\n",
    "append_to_file('This is a new log entry', 'sample.txt')"
   ]
  },
  {
   "cell_type": "code",
   "execution_count": 6,
   "id": "a0e94a5f",
   "metadata": {},
   "outputs": [
    {
     "data": {
      "text/plain": [
       "11"
      ]
     },
     "execution_count": 6,
     "metadata": {},
     "output_type": "execute_result"
    }
   ],
   "source": [
    "def count_words(filename):\n",
    "    with open(filename, 'r') as file:\n",
    "        text = file.read()\n",
    "        words = text.split()\n",
    "        return len(words)\n",
    "\n",
    "count_words('sample.txt')"
   ]
  },
  {
   "cell_type": "code",
   "execution_count": 7,
   "id": "6201808e",
   "metadata": {},
   "outputs": [],
   "source": [
    "def find_and_replace(filename, old, new):\n",
    "    with open(filename, 'r') as file:\n",
    "        text = file.read()\n",
    "    new_text = text.replace(old, new)\n",
    "    with open(filename, 'w') as file:\n",
    "        file.write(new_text)\n",
    "\n",
    "\n",
    "find_and_replace('sample.txt', 'Hello', 'Hey')"
   ]
  },
  {
   "cell_type": "code",
   "execution_count": null,
   "id": "6d08f10f",
   "metadata": {},
   "outputs": [
    {
     "name": "stdout",
     "output_type": "stream",
     "text": [
      "This is a new log entry\n",
      "How are you?\n",
      "Hey World\n"
     ]
    }
   ],
   "source": [
    "def read_reverse(filename):\n",
    "    with open(filename, 'r') as file:\n",
    "        lines = file.readlines() # read all lines into a list\n",
    "    for line in reversed(lines):\n",
    "        print(line.strip()) \n",
    "\n",
    "read_reverse('sample.txt')"
   ]
  },
  {
   "cell_type": "code",
   "execution_count": 11,
   "id": "6e44e876",
   "metadata": {},
   "outputs": [
    {
     "name": "stdout",
     "output_type": "stream",
     "text": [
      "(3, 11, 47)\n"
     ]
    }
   ],
   "source": [
    "def count_lwc(filename):\n",
    "    with open(filename, 'r') as file:\n",
    "        lines = file.readlines()\n",
    "        words = sum(len(line.split()) for line in lines)\n",
    "        characters = sum(len(line) for line in lines)\n",
    "    return len(lines), words, characters\n",
    "\n",
    "\n",
    "print(count_lwc('sample.txt'))"
   ]
  },
  {
   "cell_type": "code",
   "execution_count": 1,
   "id": "ba0be0d9",
   "metadata": {},
   "outputs": [],
   "source": [
    "def merge_files(file_list, op_file):\n",
    "    with open(op_file,'w') as outfile:\n",
    "        for f in file_list:\n",
    "            with open(f, 'r') as infile:\n",
    "                outfile.write(infile.read()+'\\n')\n",
    "\n",
    "merge_files(['file1.txt', 'file2.txt'], 'merged.txt')\n"
   ]
  },
  {
   "cell_type": "code",
   "execution_count": 3,
   "id": "dd9c1833",
   "metadata": {},
   "outputs": [],
   "source": [
    "def split_file(filename, lines):\n",
    "    with open(filename, 'r') as f:\n",
    "        content = f.readlines()\n",
    "    for i in range (0, len(content), lines):\n",
    "        with open(f'{filename}_part{i//lines +1}.txt', 'w') as part:\n",
    "            part.writelines(content[i:i + lines])\n",
    "\n",
    "split_file('large.txt', 5)"
   ]
  },
  {
   "cell_type": "code",
   "execution_count": 4,
   "id": "f8133c66",
   "metadata": {},
   "outputs": [],
   "source": [
    "import datetime\n",
    "\n",
    "def log_message(message, filename='activity.log'):\n",
    "    timestamp = datetime.datetime.now().isoformat()\n",
    "    with open(filename, 'a') as file:\n",
    "        file.write(f'[{timestamp}] {message}\\n')\n",
    "\n",
    "log_message('This is a log message')"
   ]
  },
  {
   "cell_type": "code",
   "execution_count": 5,
   "id": "3e2780ca",
   "metadata": {},
   "outputs": [],
   "source": [
    "def copy_binary_file(src, dest):\n",
    "    with open(src, 'rb') as source:\n",
    "        with open(dest, 'wb') as destination:\n",
    "            destination.write(source.read())\n",
    "\n",
    "copy_binary_file('number.bin', 'copy_number.bin')"
   ]
  },
  {
   "cell_type": "code",
   "execution_count": 7,
   "id": "0a97152a",
   "metadata": {},
   "outputs": [
    {
     "name": "stdout",
     "output_type": "stream",
     "text": [
      "[{'Name': 'Alice', 'Age': '25', 'City': 'New York'}, {'Name': 'Bob', 'Age': '30', 'City': 'Los Angeles'}, {'Name': 'Charlie', 'Age': '22', 'City': 'Chicago'}]\n"
     ]
    }
   ],
   "source": [
    "import csv\n",
    "\n",
    "def read_csv_as_dicts(filename):\n",
    "    with open(filename, 'r') as file:\n",
    "        reader = csv.DictReader(file)\n",
    "        return list(reader)\n",
    "\n",
    "print(read_csv_as_dicts('data.csv'))"
   ]
  },
  {
   "cell_type": "code",
   "execution_count": 8,
   "id": "273b843e",
   "metadata": {},
   "outputs": [
    {
     "name": "stdout",
     "output_type": "stream",
     "text": [
      "{'name': 'Alice', 'age': 25, 'city': 'New York', 'is_student': False, 'hobbies': ['reading', 'traveling', 'coding'], 'address': {'street': '123 Main St', 'zip': '10001'}}\n"
     ]
    }
   ],
   "source": [
    "import json \n",
    "\n",
    "def read_json(filename):\n",
    "    with open(filename, 'r') as f:\n",
    "        data = json.load(f)\n",
    "        return data\n",
    "\n",
    "print(read_json('data.json'))"
   ]
  },
  {
   "cell_type": "code",
   "execution_count": 9,
   "id": "481934cd",
   "metadata": {},
   "outputs": [
    {
     "name": "stdout",
     "output_type": "stream",
     "text": [
      "Hello\n",
      "What is up \n",
      "This is python\n"
     ]
    }
   ],
   "source": [
    "def read_protected_file(filename):\n",
    "    try:\n",
    "        with open(filename, 'r')as f:\n",
    "            print(f.read())\n",
    "    except PermissionError as e:\n",
    "        print(f\"Permission error: {e}.\")\n",
    "\n",
    "read_protected_file('protected.txt')"
   ]
  },
  {
   "cell_type": "code",
   "execution_count": null,
   "id": "8b9b36fc",
   "metadata": {},
   "outputs": [],
   "source": []
  }
 ],
 "metadata": {
  "kernelspec": {
   "display_name": "Python 3",
   "language": "python",
   "name": "python3"
  },
  "language_info": {
   "codemirror_mode": {
    "name": "ipython",
    "version": 3
   },
   "file_extension": ".py",
   "mimetype": "text/x-python",
   "name": "python",
   "nbconvert_exporter": "python",
   "pygments_lexer": "ipython3",
   "version": "3.12.0"
  }
 },
 "nbformat": 4,
 "nbformat_minor": 5
}
