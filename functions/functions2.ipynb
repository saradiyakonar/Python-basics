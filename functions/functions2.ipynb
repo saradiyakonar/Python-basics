{
 "cells": [
  {
   "cell_type": "code",
   "execution_count": 4,
   "metadata": {},
   "outputs": [
    {
     "name": "stdout",
     "output_type": "stream",
     "text": [
      "50.0\n"
     ]
    }
   ],
   "source": [
    "def celsius_to_fahrenheit(temperature):\n",
    "        return temperature * (9/5) +32\n",
    "            \n",
    "temp = float(input(\"C=\"))\n",
    "print(celsius_to_fahrenheit(temp))"
   ]
  },
  {
   "cell_type": "code",
   "execution_count": 1,
   "metadata": {},
   "outputs": [
    {
     "name": "stdout",
     "output_type": "stream",
     "text": [
      "5\n"
     ]
    }
   ],
   "source": [
    "def largest_number(numbers):\n",
    "    if not numbers:\n",
    "        return None\n",
    "    largest = numbers[0]\n",
    "    for n in numbers[1:]:\n",
    "        if n > largest:\n",
    "            largest = n\n",
    "    return largest\n",
    "\n",
    "print(largest_number([1,2,3,4,5]))"
   ]
  },
  {
   "cell_type": "code",
   "execution_count": 4,
   "metadata": {},
   "outputs": [
    {
     "name": "stdout",
     "output_type": "stream",
     "text": [
      "[5, 4, 6, 7]\n"
     ]
    }
   ],
   "source": [
    "def remove_duplicates(lst):\n",
    "    for num in lst:\n",
    "        if lst.count(num) > 1:\n",
    "            lst.remove(num)\n",
    "    return lst\n",
    "\n",
    "print(remove_duplicates([5,5,4,4,6,7]))"
   ]
  },
  {
   "cell_type": "code",
   "execution_count": 5,
   "metadata": {},
   "outputs": [
    {
     "name": "stdout",
     "output_type": "stream",
     "text": [
      "[1, 2, 3, 4]\n"
     ]
    }
   ],
   "source": [
    "def rem_duplicates(lst):\n",
    "    unique_list = []\n",
    "    for n in lst:\n",
    "        if n not in unique_list:\n",
    "            unique_list.append(n)\n",
    "    return unique_list\n",
    "\n",
    "print(rem_duplicates([1,1,2,3,4,4,1,2]))"
   ]
  },
  {
   "cell_type": "code",
   "execution_count": 8,
   "metadata": {},
   "outputs": [
    {
     "name": "stdout",
     "output_type": "stream",
     "text": [
      "False\n",
      "True\n"
     ]
    }
   ],
   "source": [
    "def check_unique(lst):\n",
    "    for num in lst:\n",
    "        if lst.count(num) > 1:\n",
    "            return False\n",
    "    return True\n",
    "    \n",
    "print(check_unique([1,2,2,3,4,4]))\n",
    "print(check_unique([1,2,3,4]))"
   ]
  },
  {
   "cell_type": "code",
   "execution_count": 9,
   "metadata": {},
   "outputs": [
    {
     "name": "stdout",
     "output_type": "stream",
     "text": [
      "[5, 4, 3, 2, 1]\n"
     ]
    }
   ],
   "source": [
    "def reverse_list(lst):\n",
    "    start = 0\n",
    "    end = len(lst)-1\n",
    "    while start<end:\n",
    "        lst[start], lst[end] = lst[end],lst[start]\n",
    "        start += 1\n",
    "        end -= 1\n",
    "    return lst\n",
    "\n",
    "print(reverse_list([1,2,3,4,5]))"
   ]
  },
  {
   "cell_type": "code",
   "execution_count": 12,
   "metadata": {},
   "outputs": [
    {
     "name": "stdout",
     "output_type": "stream",
     "text": [
      "tuple[1, 2]\n"
     ]
    }
   ],
   "source": [
    "a = 1\n",
    "b = 2\n",
    "print(tuple[a,b])"
   ]
  },
  {
   "cell_type": "code",
   "execution_count": 13,
   "metadata": {},
   "outputs": [
    {
     "name": "stdout",
     "output_type": "stream",
     "text": [
      "(4, 3, [2, 4, 6, 12], [1, 9, 11])\n"
     ]
    }
   ],
   "source": [
    "def count_even_odd(lst):\n",
    "    even_count = 0\n",
    "    odd_count = 0\n",
    "    even = []\n",
    "    odd = []\n",
    "    for i in lst:\n",
    "        if i % 2 == 0:\n",
    "            even_count += 1\n",
    "            even.append(i)\n",
    "        else:\n",
    "            odd_count += 1\n",
    "            odd.append(i)\n",
    "    return even_count,odd_count,even,odd\n",
    "\n",
    "print(count_even_odd([1,2,4,6,9,11,12]))\n"
   ]
  },
  {
   "cell_type": "code",
   "execution_count": 16,
   "metadata": {},
   "outputs": [
    {
     "name": "stdout",
     "output_type": "stream",
     "text": [
      "False\n"
     ]
    }
   ],
   "source": [
    "def is_subset(lst1,lst2):\n",
    "    for i in lst1:\n",
    "        found = False\n",
    "        for j in lst2:\n",
    "            if i == j:\n",
    "                found = True\n",
    "                break\n",
    "            if not found:\n",
    "                return False\n",
    "            return True\n",
    "\n",
    "print(is_subset([1,2,3,4],[2,3,4,5]))"
   ]
  },
  {
   "cell_type": "code",
   "execution_count": 17,
   "metadata": {},
   "outputs": [
    {
     "name": "stdout",
     "output_type": "stream",
     "text": [
      "6\n"
     ]
    }
   ],
   "source": [
    "def max_consecutive_difference(lst):\n",
    "    if len(lst)<2:\n",
    "        return 0\n",
    "    max_diff = 0    \n",
    "    current_diff = 0\n",
    "    for i in range(1,len(lst)):\n",
    "        current_diff = abs(lst[i]-lst[i-1])\n",
    "        if current_diff > max_diff:\n",
    "            max_diff = current_diff\n",
    "    return max_diff\n",
    "\n",
    "print(max_consecutive_difference([1,2,3,4,10,5]))"
   ]
  },
  {
   "cell_type": "code",
   "execution_count": 18,
   "metadata": {},
   "outputs": [],
   "source": [
    "list1 = [1,2,3,4]\n",
    "list2 = [4,5,6,7]\n",
    "list3 = list1 + list2"
   ]
  },
  {
   "cell_type": "code",
   "execution_count": 19,
   "metadata": {},
   "outputs": [
    {
     "name": "stdout",
     "output_type": "stream",
     "text": [
      "[1, 2, 3, 4, 4, 5, 6, 7]\n"
     ]
    }
   ],
   "source": [
    "print(list3)"
   ]
  },
  {
   "cell_type": "code",
   "execution_count": null,
   "metadata": {},
   "outputs": [],
   "source": []
  }
 ],
 "metadata": {
  "kernelspec": {
   "display_name": "venv",
   "language": "python",
   "name": "python3"
  },
  "language_info": {
   "codemirror_mode": {
    "name": "ipython",
    "version": 3
   },
   "file_extension": ".py",
   "mimetype": "text/x-python",
   "name": "python",
   "nbconvert_exporter": "python",
   "pygments_lexer": "ipython3",
   "version": "3.12.0"
  }
 },
 "nbformat": 4,
 "nbformat_minor": 2
}
